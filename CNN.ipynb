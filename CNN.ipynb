{
  "nbformat": 4,
  "nbformat_minor": 0,
  "metadata": {
    "colab": {
      "name": "CNN.ipynb",
      "provenance": [],
      "collapsed_sections": [],
      "authorship_tag": "ABX9TyMkurZQeebC6hjvJhTMieCO",
      "include_colab_link": true
    },
    "kernelspec": {
      "name": "python3",
      "display_name": "Python 3"
    }
  },
  "cells": [
    {
      "cell_type": "markdown",
      "metadata": {
        "id": "view-in-github",
        "colab_type": "text"
      },
      "source": [
        "<a href=\"https://colab.research.google.com/github/yunjin-cloud/AI/blob/master/CNN.ipynb\" target=\"_parent\"><img src=\"https://colab.research.google.com/assets/colab-badge.svg\" alt=\"Open In Colab\"/></a>"
      ]
    },
    {
      "cell_type": "code",
      "metadata": {
        "id": "JIW9yXGophTI",
        "colab_type": "code",
        "colab": {}
      },
      "source": [
        "import tensorflow as tf\n",
        "import keras \n",
        "\n",
        "from keras.models import Sequential\n",
        "from keras.layers import Conv2D, MaxPooling2D, Dense, Flatten, AveragePooling2D\n",
        "from keras.optimizers import Adam\n",
        "from keras.losses import sparse_categorical_crossentropy as scc\n",
        "from keras.datasets import cifar10\n",
        "\n",
        "import numpy as np"
      ],
      "execution_count": 1,
      "outputs": []
    },
    {
      "cell_type": "code",
      "metadata": {
        "id": "KNU1sYCTps_M",
        "colab_type": "code",
        "colab": {}
      },
      "source": [
        "def build_model(width, height, channel):\n",
        "    model = Sequential()\n",
        "    \n",
        "    model.add(Conv2D(\n",
        "        filters=16,\n",
        "        kernel_size=(3,3),\n",
        "        padding='same',\n",
        "        activation='relu',\n",
        "        input_shape=(width, height, channel)\n",
        "    ))\n",
        "    model.add(Conv2D(\n",
        "        filters=16,\n",
        "        kernel_size=(3,3),\n",
        "        padding='same',\n",
        "        activation='relu'\n",
        "    ))\n",
        "    model.add(MaxPooling2D(\n",
        "        pool_size=(2,2),\n",
        "        padding='same'\n",
        "    ))\n",
        "\n",
        "    model.add(Conv2D(\n",
        "        filters=32,\n",
        "        kernel_size=(3,3),\n",
        "        padding='same',\n",
        "        activation='relu'\n",
        "    ))\n",
        "    model.add(MaxPooling2D(\n",
        "        pool_size=(2,2),\n",
        "        padding='same'\n",
        "    ))\n",
        "\n",
        "    model.add(Conv2D(\n",
        "        filters=64,\n",
        "        kernel_size=(3,3),\n",
        "        padding='same',\n",
        "        activation='relu'\n",
        "    ))\n",
        "    model.add(AveragePooling2D(\n",
        "        pool_size=(8,8),\n",
        "        padding='same'\n",
        "    ))\n",
        "\n",
        "    model.add(Flatten())\n",
        "    model.add(Dense(\n",
        "        units=640,\n",
        "        activation='relu'\n",
        "    ))\n",
        "    model.add(Dense(\n",
        "        units=10,\n",
        "        activation='softmax'\n",
        "    ))\n",
        "\n",
        "    opt = Adam(learning_rate=0.001)\n",
        "    model.compile(\n",
        "        optimizer=opt,\n",
        "        loss=scc,\n",
        "        metrics=['accuracy']\n",
        "    )\n",
        "\n",
        "    return model"
      ],
      "execution_count": 14,
      "outputs": []
    },
    {
      "cell_type": "code",
      "metadata": {
        "id": "ZzENhIL-pzJa",
        "colab_type": "code",
        "colab": {}
      },
      "source": [
        "def data_preprocessing():\n",
        "    (X_train, Y_train), (X_test, Y_test) = cifar10.load_data()\n",
        "\n",
        "    mean=[0,0,0]\n",
        "    std=[0,0,0]\n",
        "    newX_train = np.ones(X_train.shape)\n",
        "    newX_test = np.ones(X_test.shape)\n",
        "    #train set에 있는 데이터로만 평균과 표준편차를 구함\n",
        "    for i in range(3):\n",
        "        mean[i] = np.mean(X_train[:,:,:,i])\n",
        "        std[i] = np.std(X_train[:,:,:,i])\n",
        "\n",
        "    #train과 test셋 모두 정규화 작업    \n",
        "    for i in range(3):\n",
        "        newX_train[:,:,:,i] = X_train[:,:,:,i] - mean[i]\n",
        "        newX_train[:,:,:,i] = newX_train[:,:,:,i] / std[i]\n",
        "        newX_test[:,:,:,i] = X_test[:,:,:,i] - mean[i]\n",
        "        newX_test[:,:,:,i] = newX_test[:,:,:,i] / std[i]\n",
        "            \n",
        "    X_train = newX_train\n",
        "    X_test = newX_test\n",
        "\n",
        "    return (X_train, Y_train), (X_test, Y_test)"
      ],
      "execution_count": 15,
      "outputs": []
    },
    {
      "cell_type": "code",
      "metadata": {
        "id": "nsa4Le1mp0SX",
        "colab_type": "code",
        "colab": {
          "base_uri": "https://localhost:8080/",
          "height": 764
        },
        "outputId": "482fa6dc-9807-4e97-9865-fe777d01a9bd"
      },
      "source": [
        "#(X_train, Y_train), (X_test, Y_test) = data_preprocessing()\n",
        "(X_train, Y_train), (X_test, Y_test) = cifar10.load_data()\n",
        "\n",
        "\n",
        "model = build_model(X_train.shape[1],X_train.shape[2],X_train.shape[3] )\n",
        "\n",
        "hist = model.fit(\n",
        "    X_train, Y_train, \n",
        "    batch_size=128, epochs=20, #batch_size 128로 변경\n",
        "    verbose=1, \n",
        "    shuffle=True, validation_split=0.2 #validation_split 0.2로 변경\n",
        ")\n",
        "\n",
        "model.evaluate(X_test, Y_test, verbose=1)"
      ],
      "execution_count": 17,
      "outputs": [
        {
          "output_type": "stream",
          "text": [
            "Epoch 1/20\n",
            "313/313 [==============================] - 76s 243ms/step - loss: 1.8860 - accuracy: 0.3291 - val_loss: 1.5764 - val_accuracy: 0.4099\n",
            "Epoch 2/20\n",
            "313/313 [==============================] - 77s 246ms/step - loss: 1.4200 - accuracy: 0.4804 - val_loss: 1.3208 - val_accuracy: 0.5279\n",
            "Epoch 3/20\n",
            "313/313 [==============================] - 77s 247ms/step - loss: 1.2720 - accuracy: 0.5405 - val_loss: 1.2037 - val_accuracy: 0.5575\n",
            "Epoch 4/20\n",
            "313/313 [==============================] - 77s 246ms/step - loss: 1.1452 - accuracy: 0.5900 - val_loss: 1.0891 - val_accuracy: 0.6128\n",
            "Epoch 5/20\n",
            "313/313 [==============================] - 77s 246ms/step - loss: 1.0520 - accuracy: 0.6263 - val_loss: 1.0191 - val_accuracy: 0.6421\n",
            "Epoch 6/20\n",
            "313/313 [==============================] - 77s 245ms/step - loss: 0.9854 - accuracy: 0.6478 - val_loss: 0.9714 - val_accuracy: 0.6529\n",
            "Epoch 7/20\n",
            "313/313 [==============================] - 77s 246ms/step - loss: 0.9369 - accuracy: 0.6679 - val_loss: 0.9712 - val_accuracy: 0.6543\n",
            "Epoch 8/20\n",
            "313/313 [==============================] - 77s 246ms/step - loss: 0.8771 - accuracy: 0.6884 - val_loss: 0.9033 - val_accuracy: 0.6808\n",
            "Epoch 9/20\n",
            "313/313 [==============================] - 77s 246ms/step - loss: 0.8420 - accuracy: 0.7011 - val_loss: 0.8817 - val_accuracy: 0.6920\n",
            "Epoch 10/20\n",
            "313/313 [==============================] - 76s 244ms/step - loss: 0.7967 - accuracy: 0.7168 - val_loss: 0.8561 - val_accuracy: 0.7033\n",
            "Epoch 11/20\n",
            "313/313 [==============================] - 77s 245ms/step - loss: 0.7637 - accuracy: 0.7301 - val_loss: 0.8415 - val_accuracy: 0.7096\n",
            "Epoch 12/20\n",
            "313/313 [==============================] - 77s 245ms/step - loss: 0.7395 - accuracy: 0.7378 - val_loss: 0.8504 - val_accuracy: 0.7039\n",
            "Epoch 13/20\n",
            "313/313 [==============================] - 77s 245ms/step - loss: 0.7082 - accuracy: 0.7498 - val_loss: 0.8228 - val_accuracy: 0.7151\n",
            "Epoch 14/20\n",
            "313/313 [==============================] - 77s 245ms/step - loss: 0.6815 - accuracy: 0.7594 - val_loss: 0.8317 - val_accuracy: 0.7157\n",
            "Epoch 15/20\n",
            "313/313 [==============================] - 77s 246ms/step - loss: 0.6578 - accuracy: 0.7681 - val_loss: 0.8181 - val_accuracy: 0.7193\n",
            "Epoch 16/20\n",
            "313/313 [==============================] - 77s 246ms/step - loss: 0.6407 - accuracy: 0.7728 - val_loss: 0.7925 - val_accuracy: 0.7264\n",
            "Epoch 17/20\n",
            "313/313 [==============================] - 77s 246ms/step - loss: 0.6174 - accuracy: 0.7831 - val_loss: 0.8073 - val_accuracy: 0.7233\n",
            "Epoch 18/20\n",
            "313/313 [==============================] - 77s 246ms/step - loss: 0.5880 - accuracy: 0.7938 - val_loss: 0.8432 - val_accuracy: 0.7153\n",
            "Epoch 19/20\n",
            "313/313 [==============================] - 77s 246ms/step - loss: 0.5817 - accuracy: 0.7948 - val_loss: 0.8125 - val_accuracy: 0.7291\n",
            "Epoch 20/20\n",
            "313/313 [==============================] - 77s 246ms/step - loss: 0.5638 - accuracy: 0.7998 - val_loss: 0.8393 - val_accuracy: 0.7239\n",
            "313/313 [==============================] - 6s 19ms/step - loss: 0.8560 - accuracy: 0.7170\n"
          ],
          "name": "stdout"
        },
        {
          "output_type": "execute_result",
          "data": {
            "text/plain": [
              "[0.8560121059417725, 0.7170000076293945]"
            ]
          },
          "metadata": {
            "tags": []
          },
          "execution_count": 17
        }
      ]
    },
    {
      "cell_type": "code",
      "metadata": {
        "id": "ZZViDdqqsIN8",
        "colab_type": "code",
        "colab": {}
      },
      "source": [
        "import matplotlib.pyplot as plt"
      ],
      "execution_count": 12,
      "outputs": []
    },
    {
      "cell_type": "code",
      "metadata": {
        "id": "_u-HA6w2sNvP",
        "colab_type": "code",
        "colab": {
          "base_uri": "https://localhost:8080/",
          "height": 545
        },
        "outputId": "94432a69-850d-45df-9f3f-faa41df023f7"
      },
      "source": [
        "plt.plot(hist.history['loss'])\n",
        "plt.title(\"loss history\")\n",
        "plt.show()\n",
        "\n",
        "plt.plot(hist.history['accuracy'])\n",
        "plt.title(\"acc history\")\n",
        "plt.show()"
      ],
      "execution_count": 18,
      "outputs": [
        {
          "output_type": "display_data",
          "data": {
            "image/png": "[encoded data removed]",
            "text/plain": [
              "<Figure size 432x288 with 1 Axes>"
            ]
          },
          "metadata": {
            "tags": [],
            "needs_background": "light"
          }
        },
        {
          "output_type": "display_data",
          "data": {
            "image/png": "[encoded data removed]",
            "text/plain": [
              "<Figure size 432x288 with 1 Axes>"
            ]
          },
          "metadata": {
            "tags": [],
            "needs_background": "light"
          }
        }
      ]
    }
  ]
}